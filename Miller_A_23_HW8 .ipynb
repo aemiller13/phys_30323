{
 "cells": [
  {
   "cell_type": "markdown",
   "metadata": {},
   "source": [
    "# Lecture 17 - Random Numbers in Python & Monte Carlo - HW 8"
   ]
  },
  {
   "cell_type": "markdown",
   "metadata": {},
   "source": [
    "## 1) Random Numbers and Radio Activity\n",
    "\n",
    "The isotope $^{213}$Bi decays to stable $^{209}$Bi via one of two different routes, with probabilities and\n",
    "half-lives thus\n",
    "\n",
    "<img src=\"Decay9.jpg\" alt=\"Decay process for Bi213 to Bi209\" title=\"Bismuth Decay\" />\n",
    "\n",
    "(Technically, $^{209}$Bi isnt really stable, but it has a half-life of more than $10^{19}$ years, a billion\n",
    "times the age of the universe, so it might as well be.)\n",
    "\n",
    "Starting with a sample consisting of 10,000 atoms of $^{213}$Bi, simulate the decay of the atoms\n",
    "by dividing time into slices of length $\\delta t = 1$s each and on each step doing\n",
    "the following:\n",
    "\n",
    "1. For each atom of $^{209}$Pb in turn, decide at random, with the appropriate probability, whether it decays or not. (The probability can be calculated from $p(t) = 1 − 2t/\\tau $, where $\\tau$ is the half life.) Count the total number that decay, subtract it from the number of $^{209}$Pb atoms, and add it to the number of $^{209}$Bi atoms.\n",
    "\n",
    "2. Now do the same for $^{209}$Tl, except that decaying atoms are subtracted from the total for $^{209}$Tl and added to the total for $^{209}$Pb.\n",
    "\n",
    "3. For $^{213}$Bi the situation is more complicated: when a $^{213}$Bi atom decays you have to decide at random with the appropriate probability the route by which it decays. Count the numbers that decay by each route and add and subtract accordingly.\n",
    "\n",
    "Note that you have to work up the chain from the bottom like this, not down from the top,\n",
    "to avoid inadvertently making the same atom decay twice on a single step.\n",
    "\n",
    "Keep track of the number of atoms of each of the four isotopes at all times for 20,000 seconds\n",
    "and make a single graph showing the four numbers as a function of time on the same axes.\n",
    "\n"
   ]
  },
  {
   "cell_type": "code",
   "execution_count": 1,
   "metadata": {},
   "outputs": [
    {
     "data": {
      "image/png": "[encoded data removed]",
      "text/plain": [
       "<Figure size 432x288 with 1 Axes>"
      ]
     },
     "metadata": {
      "needs_background": "light"
     },
     "output_type": "display_data"
    }
   ],
   "source": [
    "import numpy as np\n",
    "from numpy import arange\n",
    "from pylab import plot,xlabel,ylabel,show\n",
    "\n",
    "# Constants\n",
    "NPb = 0             \n",
    "NBi_209 = 0              \n",
    "NTl = 0             \n",
    "NBi_213 = 10000\n",
    "tauPb = 3.30*60 \n",
    "tauTl = 2.2*60\n",
    "tauBi = 46*60\n",
    "h = 1.0               \n",
    "pPb = 1 - 2**(-h/tauPb)\n",
    "pTl = 1 - 2**(-h/tauTl) \n",
    "pBi = 1 - 2**(-h/tauBi) \n",
    "tmax = 3600  \n",
    "\n",
    "\n",
    "\n",
    "\n",
    "\n",
    "# Lists of plot points\n",
    "tpoints = arange(0.0,tmax,h) # make time array\n",
    "Bi_209points = [] \n",
    "Pbpoints = [] \n",
    "Tlpoints = [] \n",
    "Bi_213points = []\n",
    "\n",
    "# Main loop\n",
    "for t in tpoints:    \n",
    "    Bi_209points.append(NBi_209) \n",
    "    Pbpoints.append(NPb) # append starting # of Pb atoms\n",
    "    Bi_213points.append(NBi_213) \n",
    "    Tlpoints.append(NTl) # append starting # of Pb atoms\n",
    "\n",
    "    # Calculate the number of atoms that decay\n",
    "    decayPb = 0\n",
    "    decayTl = 0\n",
    "    decayBi = 0\n",
    "    for i in range(NPb): \n",
    "        if np.random.random() < pPb:\n",
    "            decayPb += 1\n",
    "    NPb -= decayPb\n",
    "    NBi_209 += decayPb\n",
    "   \n",
    "    for i in range(NTl): \n",
    "        if np.random.random() < pTl:\n",
    "            decayTl += 1\n",
    "    NTl -= decayTl\n",
    "    NPb += decayTl\n",
    "   \n",
    "    for i in range(NBi_213): \n",
    "        if np.random.random() < pBi:\n",
    "            decayBi +=1\n",
    "            if np.random.random() <= 0.9791:\n",
    "                NBi_213 -= decayBi\n",
    "                NTl += decayBi\n",
    "            else:\n",
    "                NBi_213 -= decayBi\n",
    "                NPb += decayBi\n",
    "\n",
    "plot(tpoints,Bi_209points, c='m') \n",
    "plot(tpoints,Pbpoints, c='b')\n",
    "plot(tpoints,Tlpoints, c='r')\n",
    "plot(tpoints,Bi_213points, c='g')\n",
    "xlabel(\"Time\")\n",
    "ylabel(\"Number of atoms\")\n",
    "show()\n"
   ]
  },
  {
   "cell_type": "markdown",
   "metadata": {},
   "source": [
    "## 2) Lets Make a Deal\n",
    "Monte Carlo methods are often useful to ensure that our thinking is reasonable. A good\n",
    "example of this kind of use is to investigate a simple problem that generated much attention\n",
    "several years ago and for which many mathematicians obtained an incorrect solution.\n",
    "\n",
    "The problem was the analysis of the optimal strategy in a television game show popular at\n",
    "the time. The show was Lets Make a Deal with host Monty Hall. At some point in the show,\n",
    "a contestant was given a choice of selecting one of three possible items, each concealed behind\n",
    "one of three closed doors. The items varied considerably in value.\n",
    "\n",
    "After the contestant made a choice but before the chosen door was opened, the\n",
    "host, who knew where the most valuable item was, would open one of the doors\n",
    "not selected and reveal a worthless item.\n",
    "\n",
    "**The host would then offer to let the contestant select a different door from what was originally\n",
    "selected. The question, of course, is should the contestant switch?**\n",
    "\n",
    "<img src=\"Monty_Hall_Problem.jpg\" alt=\"Decay process for Bi213 to Bi209\" title=\"Bismuth Decay\" />\n",
    "\n",
    "\n",
    "\n",
    "Much interest in this problem was generated when it was analyzed by a popular magazine\n",
    "writer, Marilyn vos Savant, who concluded that the optimal strategy is to switch. This\n",
    "strategy is counterintuitive to many mathematicians, who would say that there is nothing to\n",
    "be gained by switching; that is, that the probability of improving the selection is 0.5. Study\n",
    "this problem by Monte Carlo methods. Be careful to understand all of the assumptions\n",
    "\n",
    "**Write a code that implement this test for 1000 “games”, 500 where the contestant choose to KEEP their choice of door, and 500 where contestant chooses to CHANGE their choice of door:**\n",
    "\n",
    "\n",
    "## Determine if there is probability of improving the selection by switching, and if so by how much?\n",
    "\n"
   ]
  },
  {
   "cell_type": "code",
   "execution_count": 20,
   "metadata": {},
   "outputs": [
    {
     "name": "stdout",
     "output_type": "stream",
     "text": [
      "162\n",
      "338\n"
     ]
    }
   ],
   "source": [
    "\n",
    "Games = 500\n",
    "Win = 0\n",
    "Lose = 0\n",
    "\n",
    "for i in range (Games):\n",
    "    Winning_Door = np.random.randint(3)\n",
    "    Select = np.random.randint(3)\n",
    "    \n",
    "    if Winning_Door == Select:\n",
    "        Win += 1\n",
    "    else:\n",
    "        Lose += 1\n",
    "\n",
    "        \n",
    "print(Win)\n",
    "print(Lose)\n",
    "    \n"
   ]
  },
  {
   "cell_type": "code",
   "execution_count": 18,
   "metadata": {},
   "outputs": [
    {
     "name": "stdout",
     "output_type": "stream",
     "text": [
      "331\n",
      "169\n"
     ]
    }
   ],
   "source": [
    "Games = 500\n",
    "Win = 0\n",
    "Lose = 0\n",
    "\n",
    "for i in range (Games):\n",
    "    Winning_Door = np.random.randint(3)\n",
    "    Select = np.random.randint(3)\n",
    "    \n",
    "    if Winning_Door != Select:\n",
    "        Host_Select = np.random.randint(2)\n",
    "        Select = np.random.randint(2)\n",
    "        Win += 1  \n",
    "    else:\n",
    "        Lose += 1\n",
    "    \n",
    "\n",
    "print(Win)\n",
    "print(Lose)\n",
    "          \n"
   ]
  },
  {
   "cell_type": "code",
   "execution_count": null,
   "metadata": {},
   "outputs": [],
   "source": [
    "\n",
    "    \n",
    "  \n",
    "    "
   ]
  }
 ],
 "metadata": {
  "kernelspec": {
   "display_name": "Python 3 (ipykernel)",
   "language": "python",
   "name": "python3"
  },
  "language_info": {
   "codemirror_mode": {
    "name": "ipython",
    "version": 3
   },
   "file_extension": ".py",
   "mimetype": "text/x-python",
   "name": "python",
   "nbconvert_exporter": "python",
   "pygments_lexer": "ipython3",
   "version": "3.9.12"
  }
 },
 "nbformat": 4,
 "nbformat_minor": 4
}
