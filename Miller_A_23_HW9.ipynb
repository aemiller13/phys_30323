{
 "cells": [
  {
   "cell_type": "markdown",
   "metadata": {},
   "source": [
    "# Phyiscs Problems - Lectures 18 & 19 - Homework 9 \n",
    "\n",
    "FALL 2023\n"
   ]
  },
  {
   "cell_type": "markdown",
   "metadata": {},
   "source": [
    "### 1) Altitude of a satellite\n",
    "\n",
    "A satellite is to be launched into a circular orbit around the Earth so that it orbits the planet once every T seconds.\n",
    "\n",
    "The altitude h above the Earth’s surface that the satellite must have is:\n",
    "\n",
    "$$h = \\left( \\frac{G M T^2}{4\\pi^2} \\right)^{1/3} - R$$\n",
    "\n",
    "where $G = 6.67 \\times 10^{-11}$ m$^3$ kg$^{-1}$ s$^{-2}$\n",
    "is Newton's gravitational constant, $M = 5.97 \\times 10^{24}$ kg is the mass of the Earth, and $R = 6371$ km is its radius.\n",
    "\n",
    "#### Write a program that asks the user to enter the desired value of T and then calculates and prints out the correct altitude in meters.\n"
   ]
  },
  {
   "cell_type": "code",
   "execution_count": 1,
   "metadata": {},
   "outputs": [
    {
     "name": "stdout",
     "output_type": "stream",
     "text": [
      "Value of T 1440\n",
      "35855910.176174976\n"
     ]
    }
   ],
   "source": [
    "import numpy as np\n",
    "import matplotlib.pyplot as plt\n",
    "\n",
    "def altitude():\n",
    "    T = int(input(\"Value of T \")) * 60 \n",
    "    G = (6.67e-11)\n",
    "    M = (5.97e24)\n",
    "    R = 6371000\n",
    "    x = G*M*(T**2)\n",
    "    y = 4*(np.pi**2)\n",
    "    return (((x/y)**(1/3))-R)\n",
    "h = altitude()\n",
    "print (h)\n",
    "\n",
    "# enter 1440 for the value of T"
   ]
  },
  {
   "cell_type": "code",
   "execution_count": 2,
   "metadata": {},
   "outputs": [
    {
     "name": "stdout",
     "output_type": "stream",
     "text": [
      "Value of T 45\n",
      "-2181559.8978108233\n"
     ]
    }
   ],
   "source": [
    "def altitude():\n",
    "    T = int(input(\"Value of T \")) * 60 \n",
    "    G = (6.67e-11)\n",
    "    M = (5.97e24)\n",
    "    R = 6371000\n",
    "    x = G*M*(T**2)\n",
    "    y = 4*(np.pi**2)\n",
    "    return (((x/y)**(1/3))-R)\n",
    "h = altitude()\n",
    "print (h)\n",
    "\n",
    "# enter 45 for the value of T"
   ]
  },
  {
   "cell_type": "markdown",
   "metadata": {},
   "source": [
    "Use your program to calculate the altitudes of satellites that orbit the Earth once\n",
    "a day (so-called “geosynchronous” orbit), once every 90 minutes, and once every\n",
    "45 minutes. What do you conclude from the last of these calculations?\n",
    "\n",
    "\n",
    "\n"
   ]
  },
  {
   "cell_type": "code",
   "execution_count": 3,
   "metadata": {},
   "outputs": [
    {
     "name": "stdout",
     "output_type": "stream",
     "text": [
      "Value of T 90\n",
      "279321.6253728606\n"
     ]
    }
   ],
   "source": [
    "def altitude():\n",
    "    T = int(input(\"Value of T \")) * 60 \n",
    "    G = (6.67e-11)\n",
    "    M = (5.97e24)\n",
    "    R = 6371000\n",
    "    x = G*M*(T**2)\n",
    "    y = 4*(np.pi**2)\n",
    "    return (((x/y)**(1/3))-R)\n",
    "h = altitude()\n",
    "print (h)\n",
    "\n",
    "# enter 90 for the value of T"
   ]
  },
  {
   "cell_type": "markdown",
   "metadata": {},
   "source": [
    "Technically a geosynchronous satellite is one that orbits the Earth once persidereal\n",
    "day, which is 23.93 hours, not 24 hours. Why is this? And how much difference\n",
    "will it make to the altitude of the satellite?"
   ]
  },
  {
   "cell_type": "markdown",
   "metadata": {},
   "source": [
    "#### Modify your code to calculate the times from 0.5 hour  to 30 days, in steps of 0.5 hours.   Then plot those data points (time vs h) with properly labled axes.  Plot orbits with height below 0 as red, and plots positive heeghts with times less than geosynchronous in blue and those longer in green."
   ]
  },
  {
   "cell_type": "code",
   "execution_count": 4,
   "metadata": {},
   "outputs": [
    {
     "data": {
      "text/plain": [
       "Text(0, 0.5, 'Height(m)')"
      ]
     },
     "execution_count": 4,
     "metadata": {},
     "output_type": "execute_result"
    },
    {
     "data": {
      "image/png": "[encoded data removed]",
      "text/plain": [
       "<Figure size 432x288 with 1 Axes>"
      ]
     },
     "metadata": {
      "needs_background": "light"
     },
     "output_type": "display_data"
    }
   ],
   "source": [
    "def altitude_2(t):\n",
    "    G = (6.67e-11)\n",
    "    M = (5.97e24)\n",
    "    R = 6371000\n",
    "    x = G*M*((t*60)**2)\n",
    "    y = 4*(np.pi**2)\n",
    "    return (((x/y)**(1/3))-R)\n",
    "hs_1 = []\n",
    "hs_2 = []\n",
    "hs_3 = []\n",
    "ts_1 = []\n",
    "ts_2 = []\n",
    "ts_3 = []\n",
    "for t in range(30,43200,30):\n",
    "    h = altitude_2(t)\n",
    "    if h<0:\n",
    "        hs_1.append(h)\n",
    "        ts_1.append(t)\n",
    "    elif ((h>0)&(h<35855910)):\n",
    "        hs_2.append(h)\n",
    "        ts_2.append(t)\n",
    "    elif (h>35833910):\n",
    "        hs_3.append(h)\n",
    "        ts_3.append(t)\n",
    "\n",
    "\n",
    "plt.plot(ts_1,hs_1,c='r') \n",
    "plt.plot(ts_2,hs_2,c='b') \n",
    "plt.plot(ts_3,hs_3,c='g')\n",
    "plt.xlabel(\"Period(hours)\")\n",
    "plt.ylabel(\"Height(m)\")\n",
    "\n"
   ]
  },
  {
   "cell_type": "code",
   "execution_count": null,
   "metadata": {},
   "outputs": [],
   "source": []
  },
  {
   "cell_type": "markdown",
   "metadata": {},
   "source": [
    "### 2) Special Relativity\n",
    "\n",
    "A spaceship travels from Earth in a straight line at a (relativistic)\n",
    "speed $v$ to another planet $x$ light years away. Write a program to ask\n",
    "the user for the value of $x$ and the speed $v$ as a fraction of the speed\n",
    "of light, then print out the time in years that the spaceship takes to\n",
    "reach its destination (a) in the rest frame of an observer on Earth\n",
    "and (b) as perceived by a passenger on board the ship.\n",
    "\n",
    "$$x' = \\gamma (x - vt)$$\n",
    "\n",
    "$$t' = \\gamma \\left(t - \\frac{v x}{c^2}\\right)$$\n",
    "\n",
    "$$\\gamma = \\frac{1}{\\sqrt{1 - \\frac{v^2}{c^2}}}$$\n"
   ]
  },
  {
   "cell_type": "code",
   "execution_count": 5,
   "metadata": {},
   "outputs": [
    {
     "name": "stdout",
     "output_type": "stream",
     "text": [
      "Input a value for x: 10\n",
      "Input a value for v: 90\n"
     ]
    },
    {
     "ename": "ValueError",
     "evalue": "math domain error",
     "output_type": "error",
     "traceback": [
      "\u001b[0;31m---------------------------------------------------------------------------\u001b[0m",
      "\u001b[0;31mValueError\u001b[0m                                Traceback (most recent call last)",
      "Input \u001b[0;32mIn [5]\u001b[0m, in \u001b[0;36m<cell line: 11>\u001b[0;34m()\u001b[0m\n\u001b[1;32m      9\u001b[0m     \u001b[38;5;66;03m#t_e=x/v\u001b[39;00m\n\u001b[1;32m     10\u001b[0m     \u001b[38;5;28;01mreturn\u001b[39;00m  G\u001b[38;5;241m*\u001b[39m((x\u001b[38;5;241m/\u001b[39mv)\u001b[38;5;241m-\u001b[39m((v\u001b[38;5;241m*\u001b[39mx)\u001b[38;5;241m/\u001b[39mc\u001b[38;5;241m*\u001b[39m\u001b[38;5;241m*\u001b[39m\u001b[38;5;241m2\u001b[39m))\n\u001b[0;32m---> 11\u001b[0m t_s\u001b[38;5;241m=\u001b[39m\u001b[43mtravel_time\u001b[49m\u001b[43m(\u001b[49m\u001b[43m)\u001b[49m\n\u001b[1;32m     12\u001b[0m \u001b[38;5;28mprint\u001b[39m (t_s)\n",
      "Input \u001b[0;32mIn [5]\u001b[0m, in \u001b[0;36mtravel_time\u001b[0;34m()\u001b[0m\n\u001b[1;32m      6\u001b[0m c\u001b[38;5;241m=\u001b[39m\u001b[38;5;241m3e8\u001b[39m\n\u001b[1;32m      7\u001b[0m \u001b[38;5;66;03m#V=v/c\u001b[39;00m\n\u001b[0;32m----> 8\u001b[0m G\u001b[38;5;241m=\u001b[39m\u001b[38;5;241m1\u001b[39m\u001b[38;5;241m/\u001b[39m\u001b[43mmath\u001b[49m\u001b[38;5;241;43m.\u001b[39;49m\u001b[43msqrt\u001b[49m\u001b[43m(\u001b[49m\u001b[38;5;241;43m1\u001b[39;49m\u001b[38;5;241;43m-\u001b[39;49m\u001b[43m(\u001b[49m\u001b[43mv\u001b[49m\u001b[38;5;241;43m*\u001b[39;49m\u001b[38;5;241;43m*\u001b[39;49m\u001b[38;5;241;43m2\u001b[39;49m\u001b[43m)\u001b[49m\u001b[43m)\u001b[49m\n\u001b[1;32m      9\u001b[0m \u001b[38;5;66;03m#t_e=x/v\u001b[39;00m\n\u001b[1;32m     10\u001b[0m \u001b[38;5;28;01mreturn\u001b[39;00m  G\u001b[38;5;241m*\u001b[39m((x\u001b[38;5;241m/\u001b[39mv)\u001b[38;5;241m-\u001b[39m((v\u001b[38;5;241m*\u001b[39mx)\u001b[38;5;241m/\u001b[39mc\u001b[38;5;241m*\u001b[39m\u001b[38;5;241m*\u001b[39m\u001b[38;5;241m2\u001b[39m))\n",
      "\u001b[0;31mValueError\u001b[0m: math domain error"
     ]
    }
   ],
   "source": [
    "import math\n",
    "\n",
    "def travel_time():\n",
    "    x=float(input(\"Input a value for x: \"))\n",
    "    v=float(input(\"Input a value for v: \"))\n",
    "    c=3e8\n",
    "    #V=v/c\n",
    "    G=1/math.sqrt(1-(v**2))\n",
    "    #t_e=x/v\n",
    "    return  G*((x/v)-((v*x)/c**2))\n",
    "t_s=travel_time()\n",
    "print (t_s)"
   ]
  },
  {
   "cell_type": "markdown",
   "metadata": {},
   "source": [
    "#### Use your program to calculate the answers for a planet 10 light years away with $v = 0.90c$,  $v = 0.98c$, $v = 0.999c$."
   ]
  },
  {
   "cell_type": "code",
   "execution_count": 6,
   "metadata": {},
   "outputs": [
    {
     "name": "stdout",
     "output_type": "stream",
     "text": [
      "Input a value for x: 10\n",
      "Input a value for v: .90\n",
      "Input a value for x: 10\n",
      "Input a value for v: .98\n",
      "Input a value for x: 10\n",
      "Input a value for v: .999\n",
      "25.49063709672909\n",
      "51.27743955404138\n",
      "223.88660702832203\n"
     ]
    }
   ],
   "source": [
    "v_1=travel_time()\n",
    "v_2=travel_time()\n",
    "v_3=travel_time()\n",
    "\n",
    "print(v_1)\n",
    "print(v_2)\n",
    "print(v_3)\n"
   ]
  },
  {
   "cell_type": "markdown",
   "metadata": {},
   "source": [
    "### 3) The quadratic equation\n",
    "\n",
    " Write a program that takes as input three numbers, $a$, $b$, and $c$, and prints out the two solutions to the quadratic equation $ax^2 + bx + c = 0$ using the standard\n",
    "formula:\n",
    "\n",
    "$$x = \\frac{-b \\pm \\sqrt{b^2 - 4ac}}{2a}$$\n",
    "\n",
    "Use your program to compute the solutions of $0.001x^2 + 1000x + 0.001 = 0$."
   ]
  },
  {
   "cell_type": "code",
   "execution_count": 7,
   "metadata": {},
   "outputs": [
    {
     "name": "stdout",
     "output_type": "stream",
     "text": [
      "999999.999999 9.999894245993346e-07\n"
     ]
    }
   ],
   "source": [
    "#def quadratic():\n",
    "    a=0.001\n",
    "    b=1000\n",
    "    c=0.001\n",
    "    D=(b*b)-(4*a*c)\n",
    "    \n",
    "    if D==0:\n",
    "        x = abs(b)/(2*a)\n",
    "        print(x)\n",
    "    elif D>0:\n",
    "        x1 = (abs(b)+math.sqrt(D))/(2*a)\n",
    "        x2 = (abs(b)-math.sqrt(D))/(2*a)\n",
    "        print(x1,x2)\n",
    "    else:\n",
    "        D<0\n",
    "        x1 = (abs(b)+j*math.sqrt(abs(D)))/(2*a)\n",
    "        x2 = (abs(b)-j*math.sqrt(abs(D)))/(2*a)\n",
    "        print(x1,x2)\n",
    " \n",
    "quadratic() \n"
   ]
  },
  {
   "cell_type": "markdown",
   "metadata": {},
   "source": [
    "There is another way to write the solutions to a quadratic equation. Multiplying top and bottom of the solution above by $-b \\mp \\sqrt{b^2 - 4ac}$, show that the solutions\n",
    "can also be written as:\n",
    "\n",
    "$$x = \\frac{2c}{-b \\mp \\sqrt{b^2 - 4ac}}$$\n",
    "\n",
    "Add further lines to your program to print these values in addition to the earlier ones and again use the program to solve $0.001x^2 + 1000x + 0.001 = 0$. What do you see? How do you explain it?"
   ]
  },
  {
   "cell_type": "code",
   "execution_count": 8,
   "metadata": {},
   "outputs": [
    {
     "name": "stdout",
     "output_type": "stream",
     "text": [
      "1.000000000001e-06 1000010.5755125057\n"
     ]
    }
   ],
   "source": [
    "def quadratic():\n",
    "    a=0.001\n",
    "    b=1000\n",
    "    c=0.001\n",
    "    D=(b*b)-(4*a*c)\n",
    "    \n",
    "    if D==0:\n",
    "        x =(2*c)/(np.abs(b))\n",
    "    elif D>0:\n",
    "        x1 = (2*c)/(np.abs(b)+math.sqrt(D))\n",
    "        x2 = (2*c)/(np.abs(b)-math.sqrt(D))\n",
    "    else:\n",
    "        D<0\n",
    "        x1 = (2*c)/(np.abs(b)+j*math.sqrt(np.abs(D)))\n",
    "        x2 = (2*c)/(np.abs(b)-j*math.sqrt(np.abs(D)))\n",
    "    print(x1,x2)\n",
    "    \n",
    "quadratic()"
   ]
  },
  {
   "cell_type": "markdown",
   "metadata": {},
   "source": [
    "Using what you have learned, write a new program that calculates both roots of a quadratic equation accurately in all cases."
   ]
  },
  {
   "cell_type": "markdown",
   "metadata": {},
   "source": [
    "### 4) Planetary orbits\n",
    "\n",
    "The orbit in space of one body around another, such as a planet around the Sun, need not be circular. In general it takes the form of an ellipse, with the body sometimes closer in and sometimes further out. If you are given the distance $l_1$ of closest approach that a planet makes to the Sun, also called its perihelion, and its linear velocity $v_1$ at *perihelion*, then any other property of the orbit can be calculated from these two as follows.\n",
    "\n",
    "Kepler’s second law tells us that the distance $l_2$ and velocity $v_2$ of the planet at its most distant point, or *aphelion*, satisfy $l_2 v_2 = l_1 v_1$. \n",
    "\n",
    "\n",
    "Given the values of $v_1$, $l_1$, and $l_2$, other parameters of the orbit are given by simple formulas can that be derived from Kepler’s laws and the fact that the orbit is an ellipse:\n",
    "\n",
    "Semi-Major Axis $$ a = \\frac{1}{2} (l_1 + l_2) $$ \n",
    "Semi-Minor Axis: $$ b = \\sqrt{l_1  l_2} $$ \n",
    "Orbital Period: $$ T = \\frac{2 \\pi a b}{l_1 v_1} $$ \n",
    "Orbital eccentricity:  $$ e = \\frac{l_2 - l_1}{l_2 + l_1}$$\n",
    "\n",
    "#### Write a program with functions that asks the user to enter the distance to the Sun and velocity at perihelion, then calculates and prints the quantities $l2$, $v2$, $a$, $b$, $T$, and $e$.\n",
    "\n",
    "\n"
   ]
  },
  {
   "cell_type": "code",
   "execution_count": 26,
   "metadata": {},
   "outputs": [
    {
     "name": "stdout",
     "output_type": "stream",
     "text": [
      "velocity at perihelion 3.0287e4\n",
      "perihelion1.4710e11\n",
      "71890.36922776837 61972385840.51016 104536192920.25508 95478468552.54353 -0.4071681385241809 14076123.290210607\n"
     ]
    }
   ],
   "source": [
    "# all of the following is me just trying different things to solve this problem, to no avail. \n",
    "# (vsub2)^2 - [(2GM)/((vsub1)(lsub1))]*(vsub2)-[(vsub1)^2-(2GM)/(lsub1)]=0   this eq is also needed but he forgot to include it\n",
    "\n",
    "    \n",
    "def quadratic():\n",
    "    a=1\n",
    "    b=np.abs(x*(1/v))\n",
    "    c=((v*v)-x)\n",
    "    D=(b*b)-(4*a*c)\n",
    "    if D==0:\n",
    "        u=(2*c)/(np.abs(b))\n",
    "        return u\n",
    "    elif D>0:\n",
    "        u1 = (2*c)/(np.abs(b)+math.sqrt(D))\n",
    "        u2 = (2*c)/(np.abs(b)-math.sqrt(D))\n",
    "        if u1>0:\n",
    "            u=u1\n",
    "            return u\n",
    "        if u2>0:\n",
    "            u=u2\n",
    "            return u\n",
    "    else:\n",
    "        D<0\n",
    "        u1 = (2*c)/(np.abs(b)+j*math.sqrt(np.abs(D)))\n",
    "        u2 = (2*c)/(np.abs(b)-j*math.sqrt(np.abs(D)))\n",
    "        if u1>0:\n",
    "            u=u1\n",
    "            return u\n",
    "        if u2>0:\n",
    "            u=u2\n",
    "            return u\n",
    "    \n",
    "u=quadratic()\n",
    "#print(u)\n",
    "G=6.67e-11\n",
    "M=1.9891e30\n",
    "v = float(input(\"velocity at perihelion \"))\n",
    "l = float(input(\"perihelion\"))\n",
    "x = (2*G*M)/l\n",
    "r = (l*v)/u #l2\n",
    "e = (r-l)/(r+l) #orbital eccentricity\n",
    "A = (1/2)*(l+r) #semi-major axis\n",
    "B = math.sqrt(l*r) # semi-minor axis\n",
    "t=(2*math.pi*A*B)/(l*v)\n",
    "\n",
    "print(u,r,A,B,e,t)\n",
    "\n",
    "\n",
    "\n",
    "\n",
    "#when i change the indentation i just get different error messages. "
   ]
  },
  {
   "cell_type": "markdown",
   "metadata": {},
   "source": [
    "#### Test your program by having it calculate the properties of the orbits of the Earth (for which $l_1 = 1.4710 \\times 10^{11}$ m and $v_1 = 3.0287 \\times 10^4$ m s$^{−1}$ ) and Halley’s comet ($l_1 = 8.7830 \\times 10^{10}$ m and $v_1 = 5.4529 \\times 10^4$ m s${−1}$ ). Among other things, you should find that the orbital period of the Earth is one year and that of Halley’s comet is about 76 years."
   ]
  },
  {
   "cell_type": "code",
   "execution_count": 12,
   "metadata": {},
   "outputs": [
    {
     "name": "stdout",
     "output_type": "stream",
     "text": [
      "1.000000000001e-06 1000010.5755125057\n"
     ]
    }
   ],
   "source": [
    "quadratic()\n",
    "\n",
    "\n"
   ]
  },
  {
   "cell_type": "code",
   "execution_count": null,
   "metadata": {},
   "outputs": [],
   "source": [
    "\n"
   ]
  },
  {
   "cell_type": "code",
   "execution_count": null,
   "metadata": {},
   "outputs": [],
   "source": []
  },
  {
   "cell_type": "code",
   "execution_count": null,
   "metadata": {},
   "outputs": [],
   "source": [
    "\n"
   ]
  },
  {
   "cell_type": "code",
   "execution_count": null,
   "metadata": {},
   "outputs": [],
   "source": []
  },
  {
   "cell_type": "code",
   "execution_count": null,
   "metadata": {},
   "outputs": [],
   "source": []
  }
 ],
 "metadata": {
  "kernelspec": {
   "display_name": "Python 3 (ipykernel)",
   "language": "python",
   "name": "python3"
  },
  "language_info": {
   "codemirror_mode": {
    "name": "ipython",
    "version": 3
   },
   "file_extension": ".py",
   "mimetype": "text/x-python",
   "name": "python",
   "nbconvert_exporter": "python",
   "pygments_lexer": "ipython3",
   "version": "3.9.12"
  }
 },
 "nbformat": 4,
 "nbformat_minor": 4
}
