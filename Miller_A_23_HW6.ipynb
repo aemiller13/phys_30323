{
 "cells": [
  {
   "cell_type": "code",
   "execution_count": 1,
   "id": "0df9bd15",
   "metadata": {},
   "outputs": [
    {
     "name": "stdout",
     "output_type": "stream",
     "text": [
      "'RAJ        DEJ                          Jmag   e_Jmag\\n'\n",
      "'2000 (deg) 2000 (deg) 2MASS             (mag)  (mag) \\n'\n",
      "'---------- ---------- ----------------- ------ ------\\n'\n",
      "'010.684737 +41.269035 00424433+4116085   9.453  0.052\\n'\n",
      "'010.683469 +41.268585 00424403+4116069   9.321  0.022\\n'\n",
      "'010.685657 +41.269550 00424455+4116103  10.773  0.069\\n'\n",
      "'010.686026 +41.269226 00424464+4116092   9.299  0.063\\n'\n",
      "'010.683465 +41.269676 00424403+4116108  11.507  0.056\\n'\n",
      "'010.686015 +41.269630 00424464+4116106   9.399  0.045\\n'\n",
      "'010.685270 +41.267124 00424446+4116016  12.070  0.035\\n'\n"
     ]
    }
   ],
   "source": [
    "f = open('data1.txt', 'r')\n",
    "for line in f:\n",
    "    print(repr(line))"
   ]
  },
  {
   "cell_type": "code",
   "execution_count": 23,
   "id": "ccca8474",
   "metadata": {},
   "outputs": [
    {
     "name": "stdout",
     "output_type": "stream",
     "text": [
      "369.8224852071006\n",
      "2066.1157024793392\n",
      "210.03990758244063\n",
      "251.95263290501384\n",
      "318.87755102040813\n",
      "493.8271604938272\n",
      "816.3265306122448\n"
     ]
    }
   ],
   "source": [
    "f = open('data1.txt', 'r')\n",
    "\n",
    "header1 = f.readline()\n",
    "header2 = f.readline()\n",
    "header3 = f.readline()\n",
    "\n",
    "for line in f:\n",
    "    line = line.strip()\n",
    "    columns = line.split()\n",
    "    a_i = float(columns[3])\n",
    "    sig_i = float(columns[4])\n",
    "    x = (a_i)/((sig_i)**2)\n",
    "    y = 1/(sig_i**2)\n",
    "    print(y)"
   ]
  },
  {
   "cell_type": "code",
   "execution_count": 22,
   "id": "f43ac9f0",
   "metadata": {},
   "outputs": [
    {
     "name": "stdout",
     "output_type": "stream",
     "text": [
      "45523.73055880511\n"
     ]
    }
   ],
   "source": [
    "list_x = [3495.931952662722,19258.26446280992,2262.759924385633,2342.9075333837236,3669.323979591836,4641.481481481482,9853.061224489795]\n",
    "Sum_x = sum(list_x)\n",
    "print(Sum_x)"
   ]
  },
  {
   "cell_type": "code",
   "execution_count": 24,
   "id": "116aa374",
   "metadata": {},
   "outputs": [
    {
     "name": "stdout",
     "output_type": "stream",
     "text": [
      "4526.9619703003755\n"
     ]
    }
   ],
   "source": [
    "list_y = [369.8224852071006,2066.1157024793392,210.03990758244063,251.95263290501384,318.87755102040813,493.8271604938272,816.3265306122448]\n",
    "Sum_y = sum(list_y)\n",
    "print(Sum_y)"
   ]
  },
  {
   "cell_type": "code",
   "execution_count": 25,
   "id": "10d7e2f2",
   "metadata": {},
   "outputs": [
    {
     "name": "stdout",
     "output_type": "stream",
     "text": [
      "10.056132756905951\n"
     ]
    }
   ],
   "source": [
    "mean = (Sum_x)/(Sum_y)\n",
    "print(mean)"
   ]
  },
  {
   "cell_type": "code",
   "execution_count": 26,
   "id": "9a6d703a",
   "metadata": {},
   "outputs": [
    {
     "name": "stdout",
     "output_type": "stream",
     "text": [
      "0.014862661163658223\n"
     ]
    }
   ],
   "source": [
    "Std_dev = (1/Sum_y)**(0.5)\n",
    "print(Std_dev)"
   ]
  },
  {
   "cell_type": "code",
   "execution_count": null,
   "id": "cfb9fd8d",
   "metadata": {},
   "outputs": [],
   "source": []
  }
 ],
 "metadata": {
  "kernelspec": {
   "display_name": "Python 3 (ipykernel)",
   "language": "python",
   "name": "python3"
  },
  "language_info": {
   "codemirror_mode": {
    "name": "ipython",
    "version": 3
   },
   "file_extension": ".py",
   "mimetype": "text/x-python",
   "name": "python",
   "nbconvert_exporter": "python",
   "pygments_lexer": "ipython3",
   "version": "3.9.12"
  }
 },
 "nbformat": 4,
 "nbformat_minor": 5
}
